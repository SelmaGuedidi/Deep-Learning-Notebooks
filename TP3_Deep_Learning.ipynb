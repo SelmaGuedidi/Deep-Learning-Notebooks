{
  "nbformat": 4,
  "nbformat_minor": 0,
  "metadata": {
    "colab": {
      "provenance": [],
      "gpuType": "T4",
      "toc_visible": true
    },
    "kernelspec": {
      "name": "python3",
      "display_name": "Python 3"
    },
    "language_info": {
      "name": "python"
    },
    "accelerator": "GPU"
  },
  "cells": [
    {
      "cell_type": "markdown",
      "source": [
        "Réalisé par:\n",
        "\n",
        "\n",
        "*  Karim Ellouze\n",
        "*   Selma Guedidi\n",
        "*  Ahmed Aziz Boussaid\n"
      ],
      "metadata": {
        "id": "_dVGoM-_x8aC"
      }
    },
    {
      "cell_type": "code",
      "source": [
        "!pip install  np_utils tensorflow"
      ],
      "metadata": {
        "colab": {
          "base_uri": "https://localhost:8080/"
        },
        "id": "I36cEamkPycU",
        "outputId": "b28cfbf9-0a29-4e3a-a507-8b77540bfec9"
      },
      "execution_count": null,
      "outputs": [
        {
          "output_type": "stream",
          "name": "stdout",
          "text": [
            "Requirement already satisfied: np_utils in /usr/local/lib/python3.10/dist-packages (0.6.0)\n",
            "Requirement already satisfied: tensorflow in /usr/local/lib/python3.10/dist-packages (2.15.0)\n",
            "Requirement already satisfied: numpy>=1.0 in /usr/local/lib/python3.10/dist-packages (from np_utils) (1.25.2)\n",
            "Requirement already satisfied: absl-py>=1.0.0 in /usr/local/lib/python3.10/dist-packages (from tensorflow) (1.4.0)\n",
            "Requirement already satisfied: astunparse>=1.6.0 in /usr/local/lib/python3.10/dist-packages (from tensorflow) (1.6.3)\n",
            "Requirement already satisfied: flatbuffers>=23.5.26 in /usr/local/lib/python3.10/dist-packages (from tensorflow) (24.3.25)\n",
            "Requirement already satisfied: gast!=0.5.0,!=0.5.1,!=0.5.2,>=0.2.1 in /usr/local/lib/python3.10/dist-packages (from tensorflow) (0.5.4)\n",
            "Requirement already satisfied: google-pasta>=0.1.1 in /usr/local/lib/python3.10/dist-packages (from tensorflow) (0.2.0)\n",
            "Requirement already satisfied: h5py>=2.9.0 in /usr/local/lib/python3.10/dist-packages (from tensorflow) (3.9.0)\n",
            "Requirement already satisfied: libclang>=13.0.0 in /usr/local/lib/python3.10/dist-packages (from tensorflow) (18.1.1)\n",
            "Requirement already satisfied: ml-dtypes~=0.2.0 in /usr/local/lib/python3.10/dist-packages (from tensorflow) (0.2.0)\n",
            "Requirement already satisfied: opt-einsum>=2.3.2 in /usr/local/lib/python3.10/dist-packages (from tensorflow) (3.3.0)\n",
            "Requirement already satisfied: packaging in /usr/local/lib/python3.10/dist-packages (from tensorflow) (24.0)\n",
            "Requirement already satisfied: protobuf!=4.21.0,!=4.21.1,!=4.21.2,!=4.21.3,!=4.21.4,!=4.21.5,<5.0.0dev,>=3.20.3 in /usr/local/lib/python3.10/dist-packages (from tensorflow) (3.20.3)\n",
            "Requirement already satisfied: setuptools in /usr/local/lib/python3.10/dist-packages (from tensorflow) (67.7.2)\n",
            "Requirement already satisfied: six>=1.12.0 in /usr/local/lib/python3.10/dist-packages (from tensorflow) (1.16.0)\n",
            "Requirement already satisfied: termcolor>=1.1.0 in /usr/local/lib/python3.10/dist-packages (from tensorflow) (2.4.0)\n",
            "Requirement already satisfied: typing-extensions>=3.6.6 in /usr/local/lib/python3.10/dist-packages (from tensorflow) (4.11.0)\n",
            "Requirement already satisfied: wrapt<1.15,>=1.11.0 in /usr/local/lib/python3.10/dist-packages (from tensorflow) (1.14.1)\n",
            "Requirement already satisfied: tensorflow-io-gcs-filesystem>=0.23.1 in /usr/local/lib/python3.10/dist-packages (from tensorflow) (0.36.0)\n",
            "Requirement already satisfied: grpcio<2.0,>=1.24.3 in /usr/local/lib/python3.10/dist-packages (from tensorflow) (1.62.2)\n",
            "Requirement already satisfied: tensorboard<2.16,>=2.15 in /usr/local/lib/python3.10/dist-packages (from tensorflow) (2.15.2)\n",
            "Requirement already satisfied: tensorflow-estimator<2.16,>=2.15.0 in /usr/local/lib/python3.10/dist-packages (from tensorflow) (2.15.0)\n",
            "Requirement already satisfied: keras<2.16,>=2.15.0 in /usr/local/lib/python3.10/dist-packages (from tensorflow) (2.15.0)\n",
            "Requirement already satisfied: wheel<1.0,>=0.23.0 in /usr/local/lib/python3.10/dist-packages (from astunparse>=1.6.0->tensorflow) (0.43.0)\n",
            "Requirement already satisfied: google-auth<3,>=1.6.3 in /usr/local/lib/python3.10/dist-packages (from tensorboard<2.16,>=2.15->tensorflow) (2.27.0)\n",
            "Requirement already satisfied: google-auth-oauthlib<2,>=0.5 in /usr/local/lib/python3.10/dist-packages (from tensorboard<2.16,>=2.15->tensorflow) (1.2.0)\n",
            "Requirement already satisfied: markdown>=2.6.8 in /usr/local/lib/python3.10/dist-packages (from tensorboard<2.16,>=2.15->tensorflow) (3.6)\n",
            "Requirement already satisfied: requests<3,>=2.21.0 in /usr/local/lib/python3.10/dist-packages (from tensorboard<2.16,>=2.15->tensorflow) (2.31.0)\n",
            "Requirement already satisfied: tensorboard-data-server<0.8.0,>=0.7.0 in /usr/local/lib/python3.10/dist-packages (from tensorboard<2.16,>=2.15->tensorflow) (0.7.2)\n",
            "Requirement already satisfied: werkzeug>=1.0.1 in /usr/local/lib/python3.10/dist-packages (from tensorboard<2.16,>=2.15->tensorflow) (3.0.2)\n",
            "Requirement already satisfied: cachetools<6.0,>=2.0.0 in /usr/local/lib/python3.10/dist-packages (from google-auth<3,>=1.6.3->tensorboard<2.16,>=2.15->tensorflow) (5.3.3)\n",
            "Requirement already satisfied: pyasn1-modules>=0.2.1 in /usr/local/lib/python3.10/dist-packages (from google-auth<3,>=1.6.3->tensorboard<2.16,>=2.15->tensorflow) (0.4.0)\n",
            "Requirement already satisfied: rsa<5,>=3.1.4 in /usr/local/lib/python3.10/dist-packages (from google-auth<3,>=1.6.3->tensorboard<2.16,>=2.15->tensorflow) (4.9)\n",
            "Requirement already satisfied: requests-oauthlib>=0.7.0 in /usr/local/lib/python3.10/dist-packages (from google-auth-oauthlib<2,>=0.5->tensorboard<2.16,>=2.15->tensorflow) (1.3.1)\n",
            "Requirement already satisfied: charset-normalizer<4,>=2 in /usr/local/lib/python3.10/dist-packages (from requests<3,>=2.21.0->tensorboard<2.16,>=2.15->tensorflow) (3.3.2)\n",
            "Requirement already satisfied: idna<4,>=2.5 in /usr/local/lib/python3.10/dist-packages (from requests<3,>=2.21.0->tensorboard<2.16,>=2.15->tensorflow) (3.7)\n",
            "Requirement already satisfied: urllib3<3,>=1.21.1 in /usr/local/lib/python3.10/dist-packages (from requests<3,>=2.21.0->tensorboard<2.16,>=2.15->tensorflow) (2.0.7)\n",
            "Requirement already satisfied: certifi>=2017.4.17 in /usr/local/lib/python3.10/dist-packages (from requests<3,>=2.21.0->tensorboard<2.16,>=2.15->tensorflow) (2024.2.2)\n",
            "Requirement already satisfied: MarkupSafe>=2.1.1 in /usr/local/lib/python3.10/dist-packages (from werkzeug>=1.0.1->tensorboard<2.16,>=2.15->tensorflow) (2.1.5)\n",
            "Requirement already satisfied: pyasn1<0.7.0,>=0.4.6 in /usr/local/lib/python3.10/dist-packages (from pyasn1-modules>=0.2.1->google-auth<3,>=1.6.3->tensorboard<2.16,>=2.15->tensorflow) (0.6.0)\n",
            "Requirement already satisfied: oauthlib>=3.0.0 in /usr/local/lib/python3.10/dist-packages (from requests-oauthlib>=0.7.0->google-auth-oauthlib<2,>=0.5->tensorboard<2.16,>=2.15->tensorflow) (3.2.2)\n"
          ]
        }
      ]
    },
    {
      "cell_type": "markdown",
      "source": [
        "# Construction du 1er réseau\n",
        "\n"
      ],
      "metadata": {
        "id": "TrjVFk4PYonU"
      }
    },
    {
      "cell_type": "markdown",
      "source": [
        "## Importer les données"
      ],
      "metadata": {
        "id": "ViwvjoFJZF_A"
      }
    },
    {
      "cell_type": "code",
      "execution_count": null,
      "metadata": {
        "id": "uxj2-NUNNyNs"
      },
      "outputs": [],
      "source": [
        "import numpy as np\n",
        "from keras.datasets import mnist\n",
        "from keras import utils\n",
        "from keras import backend as K\n",
        "K.set_image_data_format('channels_first')\n",
        "\n",
        "seed = 7\n",
        "np.random.seed(seed)\n",
        "from keras.models import Sequential\n",
        "from keras.layers import Dense\n",
        "from keras.layers import Dropout\n",
        "from keras.layers import Flatten\n",
        "from keras.layers import Conv2D\n",
        "from keras.layers import MaxPooling2D"
      ]
    },
    {
      "cell_type": "code",
      "source": [
        "(X_train, y_train),(X_test, y_test)= mnist.load_data()"
      ],
      "metadata": {
        "id": "e73mO8XfN3-w"
      },
      "execution_count": null,
      "outputs": []
    },
    {
      "cell_type": "code",
      "source": [
        "X_train"
      ],
      "metadata": {
        "colab": {
          "base_uri": "https://localhost:8080/"
        },
        "id": "8fCTbADdQZKr",
        "outputId": "e376fd5d-d840-4211-b247-a34f6ff89684"
      },
      "execution_count": null,
      "outputs": [
        {
          "output_type": "execute_result",
          "data": {
            "text/plain": [
              "array([[[0, 0, 0, ..., 0, 0, 0],\n",
              "        [0, 0, 0, ..., 0, 0, 0],\n",
              "        [0, 0, 0, ..., 0, 0, 0],\n",
              "        ...,\n",
              "        [0, 0, 0, ..., 0, 0, 0],\n",
              "        [0, 0, 0, ..., 0, 0, 0],\n",
              "        [0, 0, 0, ..., 0, 0, 0]],\n",
              "\n",
              "       [[0, 0, 0, ..., 0, 0, 0],\n",
              "        [0, 0, 0, ..., 0, 0, 0],\n",
              "        [0, 0, 0, ..., 0, 0, 0],\n",
              "        ...,\n",
              "        [0, 0, 0, ..., 0, 0, 0],\n",
              "        [0, 0, 0, ..., 0, 0, 0],\n",
              "        [0, 0, 0, ..., 0, 0, 0]],\n",
              "\n",
              "       [[0, 0, 0, ..., 0, 0, 0],\n",
              "        [0, 0, 0, ..., 0, 0, 0],\n",
              "        [0, 0, 0, ..., 0, 0, 0],\n",
              "        ...,\n",
              "        [0, 0, 0, ..., 0, 0, 0],\n",
              "        [0, 0, 0, ..., 0, 0, 0],\n",
              "        [0, 0, 0, ..., 0, 0, 0]],\n",
              "\n",
              "       ...,\n",
              "\n",
              "       [[0, 0, 0, ..., 0, 0, 0],\n",
              "        [0, 0, 0, ..., 0, 0, 0],\n",
              "        [0, 0, 0, ..., 0, 0, 0],\n",
              "        ...,\n",
              "        [0, 0, 0, ..., 0, 0, 0],\n",
              "        [0, 0, 0, ..., 0, 0, 0],\n",
              "        [0, 0, 0, ..., 0, 0, 0]],\n",
              "\n",
              "       [[0, 0, 0, ..., 0, 0, 0],\n",
              "        [0, 0, 0, ..., 0, 0, 0],\n",
              "        [0, 0, 0, ..., 0, 0, 0],\n",
              "        ...,\n",
              "        [0, 0, 0, ..., 0, 0, 0],\n",
              "        [0, 0, 0, ..., 0, 0, 0],\n",
              "        [0, 0, 0, ..., 0, 0, 0]],\n",
              "\n",
              "       [[0, 0, 0, ..., 0, 0, 0],\n",
              "        [0, 0, 0, ..., 0, 0, 0],\n",
              "        [0, 0, 0, ..., 0, 0, 0],\n",
              "        ...,\n",
              "        [0, 0, 0, ..., 0, 0, 0],\n",
              "        [0, 0, 0, ..., 0, 0, 0],\n",
              "        [0, 0, 0, ..., 0, 0, 0]]], dtype=uint8)"
            ]
          },
          "metadata": {},
          "execution_count": 73
        }
      ]
    },
    {
      "cell_type": "code",
      "source": [
        "# reshape to be [samples][pixels][width][height]\n",
        "X_train = X_train.reshape(X_train.shape[0], 1, 28,28).astype('float32')\n",
        "X_test = X_test.reshape(X_test.shape[0], 1, 28, 28).astype('float32')"
      ],
      "metadata": {
        "id": "XnTT_vC3P_Nw"
      },
      "execution_count": null,
      "outputs": []
    },
    {
      "cell_type": "code",
      "source": [
        "#one hot encode outputs\n",
        "y_train = utils.to_categorical(y_train)\n",
        "y_test = utils.to_categorical(y_test)\n",
        "num_classes = y_test.shape[1]"
      ],
      "metadata": {
        "id": "NOf1iV7HRD5o"
      },
      "execution_count": null,
      "outputs": []
    },
    {
      "cell_type": "code",
      "source": [
        "def get_data_mnist():\n",
        "    # Load MNIST dataset\n",
        "    (X_train, y_train), (X_test, y_test) = mnist.load_data()\n",
        "\n",
        "    # Reshape and normalize input images\n",
        "    X_train = X_train.reshape(X_train.shape[0], 1, 28,28).astype('float32')\n",
        "    X_test = X_test.reshape(X_test.shape[0], 1, 28, 28).astype('float32')\n",
        "    X_train /= 255\n",
        "    X_test /= 255\n",
        "    # One-hot encode outputs\n",
        "    y_train = utils.to_categorical(y_train)\n",
        "    y_test = utils.to_categorical(y_test)\n",
        "\n",
        "    # Number of classes\n",
        "    num_classes = y_test.shape[1]\n",
        "\n",
        "    return (X_train, y_train), (X_test, y_test), num_classes"
      ],
      "metadata": {
        "id": "fPYoSwbWRbRg"
      },
      "execution_count": null,
      "outputs": []
    },
    {
      "cell_type": "markdown",
      "source": [
        "## Construire le modèle de CNN"
      ],
      "metadata": {
        "id": "7-56fl3hY69B"
      }
    },
    {
      "cell_type": "code",
      "source": [
        "\n",
        "def small_model():\n",
        "  model = Sequential()\n",
        "  model.add(Conv2D(64, (3, 3), input_shape=(1, 28, 28),activation='relu'))\n",
        "  model.add(Conv2D(32, (3, 3), activation='relu'))\n",
        "  model.add(Flatten())\n",
        "  model.add(Dense(num_classes, activation='softmax'))\n",
        "  model.compile(loss='categorical_crossentropy',\n",
        "                  optimizer='adam',\n",
        "                  metrics=['accuracy'])\n",
        "  return model"
      ],
      "metadata": {
        "id": "HZ43lCW-R5Y7"
      },
      "execution_count": null,
      "outputs": []
    },
    {
      "cell_type": "code",
      "source": [
        "def small_model_v2():\n",
        "  model = Sequential()\n",
        "\n",
        "  model.add(Conv2D(32, (5, 5), input_shape=(1, 28, 28), activation='relu'))\n",
        "  model.add(MaxPooling2D(pool_size=(2, 2)))\n",
        "\n",
        "  model.add(Dropout(0.2))\n",
        "  model.add(Flatten())\n",
        "  model.add(Dense(128, activation='relu'))\n",
        "\n",
        "  # Output layer with num_classes units and softmax activation\n",
        "  model.add(Dense(num_classes, activation='softmax'))\n",
        "\n",
        "  model.compile(loss='categorical_crossentropy',\n",
        "                optimizer='adam',\n",
        "                metrics=['accuracy'])\n",
        "\n",
        "  return model"
      ],
      "metadata": {
        "id": "G8kGn-IJVABa"
      },
      "execution_count": null,
      "outputs": []
    },
    {
      "cell_type": "code",
      "source": [
        "def small_model_v3():\n",
        "  model = Sequential()\n",
        "\n",
        "  model.add(Conv2D(32, (5, 5), input_shape=(1, 28, 28), activation='relu'))\n",
        "  model.add(MaxPooling2D(pool_size=(2, 2)))\n",
        "  model.add(Conv2D(15, (3, 3),  activation='relu'))\n",
        "\n",
        "  model.add(Dropout(0.2))\n",
        "  model.add(Flatten())\n",
        "  model.add(Dense(128, activation='relu'))\n",
        "  model.add(Dense(50, activation='relu'))\n",
        "\n",
        "  # Output layer with num_classes units and softmax activation\n",
        "  model.add(Dense(num_classes, activation='softmax'))\n",
        "\n",
        "  model.compile(loss='categorical_crossentropy',\n",
        "                optimizer='adam',\n",
        "                metrics=['accuracy'])\n",
        "\n",
        "  return model"
      ],
      "metadata": {
        "id": "ly_e0b7MT5AU"
      },
      "execution_count": null,
      "outputs": []
    },
    {
      "cell_type": "markdown",
      "source": [
        "## Entrainer et évaluer notre Small CNN"
      ],
      "metadata": {
        "id": "1DMR5pPSZBIB"
      }
    },
    {
      "cell_type": "code",
      "source": [
        "model= small_model()\n",
        "history = model.fit(X_train, y_train, validation_data=(X_test, y_test), epochs=10, batch_size=200)\n",
        "\n",
        "# Evaluate the model\n",
        "test_loss, test_accuracy = model.evaluate(X_test, y_test)\n",
        "print(\"Test Loss:\", test_loss)\n",
        "print(\"Test Accuracy:\", test_accuracy)"
      ],
      "metadata": {
        "colab": {
          "base_uri": "https://localhost:8080/"
        },
        "id": "GObsR2lASU9T",
        "outputId": "607ac83e-72f7-43ce-f72c-82dc2f8ceb09"
      },
      "execution_count": null,
      "outputs": [
        {
          "output_type": "stream",
          "name": "stdout",
          "text": [
            "Epoch 1/10\n",
            "300/300 [==============================] - 5s 12ms/step - loss: 0.5044 - accuracy: 0.9369 - val_loss: 0.0807 - val_accuracy: 0.9740\n",
            "Epoch 2/10\n",
            "300/300 [==============================] - 4s 13ms/step - loss: 0.0540 - accuracy: 0.9833 - val_loss: 0.0726 - val_accuracy: 0.9794\n",
            "Epoch 3/10\n",
            "300/300 [==============================] - 6s 18ms/step - loss: 0.0343 - accuracy: 0.9889 - val_loss: 0.0718 - val_accuracy: 0.9807\n",
            "Epoch 4/10\n",
            "300/300 [==============================] - 5s 15ms/step - loss: 0.0217 - accuracy: 0.9929 - val_loss: 0.0821 - val_accuracy: 0.9798\n",
            "Epoch 5/10\n",
            "300/300 [==============================] - 4s 15ms/step - loss: 0.0150 - accuracy: 0.9951 - val_loss: 0.0942 - val_accuracy: 0.9792\n",
            "Epoch 6/10\n",
            "300/300 [==============================] - 4s 13ms/step - loss: 0.0181 - accuracy: 0.9937 - val_loss: 0.1062 - val_accuracy: 0.9771\n",
            "Epoch 7/10\n",
            "300/300 [==============================] - 3s 10ms/step - loss: 0.0125 - accuracy: 0.9958 - val_loss: 0.1128 - val_accuracy: 0.9783\n",
            "Epoch 8/10\n",
            "300/300 [==============================] - 3s 9ms/step - loss: 0.0136 - accuracy: 0.9953 - val_loss: 0.1068 - val_accuracy: 0.9799\n",
            "Epoch 9/10\n",
            "300/300 [==============================] - 3s 9ms/step - loss: 0.0143 - accuracy: 0.9952 - val_loss: 0.1353 - val_accuracy: 0.9764\n",
            "Epoch 10/10\n",
            "300/300 [==============================] - 3s 11ms/step - loss: 0.0151 - accuracy: 0.9951 - val_loss: 0.1096 - val_accuracy: 0.9807\n",
            "313/313 [==============================] - 1s 3ms/step - loss: 0.1096 - accuracy: 0.9807\n",
            "Test Loss: 0.10958556830883026\n",
            "Test Accuracy: 0.9807000160217285\n"
          ]
        }
      ]
    },
    {
      "cell_type": "code",
      "source": [
        "def print_model_error_rate(model, X_test, y_test):\n",
        " # Final evaluation of the model\n",
        "  scores = model.evaluate(X_test, y_test, verbose=0)\n",
        "  print(\"Model score : %.2f%%\" % (scores[1]*100))\n",
        "  print(\"Model error rate : %.2f%%\" % (100-scores[1]*100))"
      ],
      "metadata": {
        "id": "CAFlD8aVTuIf"
      },
      "execution_count": null,
      "outputs": []
    },
    {
      "cell_type": "code",
      "source": [
        "print_model_error_rate(model, X_test, y_test)"
      ],
      "metadata": {
        "colab": {
          "base_uri": "https://localhost:8080/"
        },
        "id": "t4PBKZffTzLX",
        "outputId": "e30c9e5a-0866-4874-b001-9dfa438f8744"
      },
      "execution_count": null,
      "outputs": [
        {
          "output_type": "stream",
          "name": "stdout",
          "text": [
            "Model score : 98.07%\n",
            "Model error rate : 1.93%\n"
          ]
        }
      ]
    },
    {
      "cell_type": "markdown",
      "source": [
        "# Construction des 3 modèles après normalisation de données"
      ],
      "metadata": {
        "id": "AOk3f1fhZMAN"
      }
    },
    {
      "cell_type": "code",
      "source": [
        "model= small_model_v2()\n",
        "history = model.fit(X_train, y_train, validation_data=(X_test, y_test), epochs=10, batch_size=200)\n",
        "print_model_error_rate(model, X_test, y_test)"
      ],
      "metadata": {
        "colab": {
          "base_uri": "https://localhost:8080/"
        },
        "id": "ZkIHffToV0Cu",
        "outputId": "6cab23c8-9c92-41bf-a95d-5cb3f2bda3d5"
      },
      "execution_count": null,
      "outputs": [
        {
          "output_type": "stream",
          "name": "stdout",
          "text": [
            "Epoch 1/10\n",
            "300/300 [==============================] - 3s 6ms/step - loss: 1.5660 - accuracy: 0.8781 - val_loss: 0.1102 - val_accuracy: 0.9696\n",
            "Epoch 2/10\n",
            "300/300 [==============================] - 2s 5ms/step - loss: 0.1103 - accuracy: 0.9676 - val_loss: 0.0738 - val_accuracy: 0.9782\n",
            "Epoch 3/10\n",
            "300/300 [==============================] - 2s 7ms/step - loss: 0.0715 - accuracy: 0.9781 - val_loss: 0.0636 - val_accuracy: 0.9814\n",
            "Epoch 4/10\n",
            "300/300 [==============================] - 2s 5ms/step - loss: 0.0536 - accuracy: 0.9831 - val_loss: 0.0624 - val_accuracy: 0.9811\n",
            "Epoch 5/10\n",
            "300/300 [==============================] - 1s 5ms/step - loss: 0.0417 - accuracy: 0.9869 - val_loss: 0.0666 - val_accuracy: 0.9809\n",
            "Epoch 6/10\n",
            "300/300 [==============================] - 1s 5ms/step - loss: 0.0348 - accuracy: 0.9888 - val_loss: 0.0616 - val_accuracy: 0.9834\n",
            "Epoch 7/10\n",
            "300/300 [==============================] - 1s 4ms/step - loss: 0.0296 - accuracy: 0.9901 - val_loss: 0.0612 - val_accuracy: 0.9842\n",
            "Epoch 8/10\n",
            "300/300 [==============================] - 1s 5ms/step - loss: 0.0260 - accuracy: 0.9912 - val_loss: 0.0665 - val_accuracy: 0.9826\n",
            "Epoch 9/10\n",
            "300/300 [==============================] - 1s 4ms/step - loss: 0.0243 - accuracy: 0.9920 - val_loss: 0.0703 - val_accuracy: 0.9822\n",
            "Epoch 10/10\n",
            "300/300 [==============================] - 1s 4ms/step - loss: 0.0218 - accuracy: 0.9926 - val_loss: 0.0642 - val_accuracy: 0.9850\n",
            "Model score : 98.50%\n",
            "Model error rate : 1.50%\n"
          ]
        }
      ]
    },
    {
      "cell_type": "code",
      "source": [
        "model= small_model_v3()\n",
        "history = model.fit(X_train, y_train, validation_data=(X_test, y_test), epochs=10, batch_size=200)\n",
        "print_model_error_rate(model, X_test, y_test)"
      ],
      "metadata": {
        "colab": {
          "base_uri": "https://localhost:8080/"
        },
        "id": "zcU5HG7WXIzz",
        "outputId": "5dd5f15c-1d27-4dda-8e4d-f33284316d66"
      },
      "execution_count": null,
      "outputs": [
        {
          "output_type": "stream",
          "name": "stdout",
          "text": [
            "Epoch 1/10\n",
            "300/300 [==============================] - 3s 6ms/step - loss: 0.7363 - accuracy: 0.8776 - val_loss: 0.1015 - val_accuracy: 0.9672\n",
            "Epoch 2/10\n",
            "300/300 [==============================] - 2s 6ms/step - loss: 0.1063 - accuracy: 0.9686 - val_loss: 0.0625 - val_accuracy: 0.9812\n",
            "Epoch 3/10\n",
            "300/300 [==============================] - 2s 7ms/step - loss: 0.0717 - accuracy: 0.9780 - val_loss: 0.0579 - val_accuracy: 0.9834\n",
            "Epoch 4/10\n",
            "300/300 [==============================] - 2s 7ms/step - loss: 0.0530 - accuracy: 0.9837 - val_loss: 0.0444 - val_accuracy: 0.9862\n",
            "Epoch 5/10\n",
            "300/300 [==============================] - 2s 6ms/step - loss: 0.0449 - accuracy: 0.9858 - val_loss: 0.0505 - val_accuracy: 0.9845\n",
            "Epoch 6/10\n",
            "300/300 [==============================] - 2s 5ms/step - loss: 0.0361 - accuracy: 0.9888 - val_loss: 0.0459 - val_accuracy: 0.9872\n",
            "Epoch 7/10\n",
            "300/300 [==============================] - 2s 5ms/step - loss: 0.0303 - accuracy: 0.9901 - val_loss: 0.0541 - val_accuracy: 0.9852\n",
            "Epoch 8/10\n",
            "300/300 [==============================] - 2s 5ms/step - loss: 0.0291 - accuracy: 0.9908 - val_loss: 0.0466 - val_accuracy: 0.9860\n",
            "Epoch 9/10\n",
            "300/300 [==============================] - 2s 5ms/step - loss: 0.0274 - accuracy: 0.9914 - val_loss: 0.0502 - val_accuracy: 0.9858\n",
            "Epoch 10/10\n",
            "300/300 [==============================] - 2s 8ms/step - loss: 0.0241 - accuracy: 0.9919 - val_loss: 0.0476 - val_accuracy: 0.9877\n",
            "Model score : 98.77%\n",
            "Model error rate : 1.23%\n"
          ]
        }
      ]
    },
    {
      "cell_type": "code",
      "source": [
        "# This function saves a model on the drive using two files: a json and a h5\n",
        "def save_keras_model(model, filename):\n",
        "  # serialize model to JSON\n",
        "  model_json = model.to_json()\n",
        "  with open(filename+\".json\", \"w\") as json_file:\n",
        "    json_file.write(model_json)\n",
        "  # serialize weights to HDF5\n",
        "  model.save_weights(filename+\".h5\")"
      ],
      "metadata": {
        "id": "0tdRev7nXadQ"
      },
      "execution_count": null,
      "outputs": []
    },
    {
      "cell_type": "code",
      "source": [
        "save_keras_model(model,\"cnn\")"
      ],
      "metadata": {
        "id": "HUkqfvCrX2CI"
      },
      "execution_count": null,
      "outputs": []
    },
    {
      "cell_type": "markdown",
      "source": [
        "# Sauvegarde et chargements des modèles Keras"
      ],
      "metadata": {
        "id": "5JKL5iABZQlN"
      }
    },
    {
      "cell_type": "code",
      "source": [
        "from keras.models import model_from_json"
      ],
      "metadata": {
        "id": "mkDQD6s2Xgvk"
      },
      "execution_count": null,
      "outputs": []
    },
    {
      "cell_type": "code",
      "source": [
        "def load_keras_model(filename):\n",
        " # load json and create model\n",
        " json_file = open(filename+\".json\", 'r')\n",
        " loaded_model_json = json_file.read()\n",
        " json_file.close()\n",
        " loaded_model = model_from_json(loaded_model_json)\n",
        " # load weights into new model\n",
        " loaded_model.load_weights(filename+\".h5\")\n",
        " return loaded_model"
      ],
      "metadata": {
        "id": "KrJ0gUArXj-n"
      },
      "execution_count": null,
      "outputs": []
    },
    {
      "cell_type": "code",
      "source": [
        "loded_model=load_keras_model(\"cnn\")\n",
        "loded_model.compile(loss='categorical_crossentropy',\n",
        "                optimizer='adam',\n",
        "                metrics=['accuracy'])"
      ],
      "metadata": {
        "id": "FEgFk-6rYkkR"
      },
      "execution_count": null,
      "outputs": []
    },
    {
      "cell_type": "code",
      "source": [
        "print_model_error_rate(loded_model, X_test, y_test)"
      ],
      "metadata": {
        "colab": {
          "base_uri": "https://localhost:8080/"
        },
        "id": "z0Y5VuGQYoGx",
        "outputId": "9dcfaad7-7c26-4324-f7c5-9d1cc4847518"
      },
      "execution_count": null,
      "outputs": [
        {
          "output_type": "stream",
          "name": "stdout",
          "text": [
            "Model score : 98.77%\n",
            "Model error rate : 1.23%\n"
          ]
        }
      ]
    },
    {
      "cell_type": "code",
      "source": [
        "image_index = 3 # You can change this index to see different images\n",
        "image = X_test[image_index]\n",
        "import matplotlib.pyplot as plt\n",
        "\n",
        "image = image.reshape((28, 28))\n",
        "# Display the image\n",
        "plt.imshow(image, cmap='gray')\n",
        "plt.axis('off')\n",
        "plt.show()"
      ],
      "metadata": {
        "colab": {
          "base_uri": "https://localhost:8080/",
          "height": 406
        },
        "id": "98R0u6oTa8iD",
        "outputId": "617c6cf2-f709-4de1-d28b-65d7af7143ee"
      },
      "execution_count": null,
      "outputs": [
        {
          "output_type": "display_data",
          "data": {
            "text/plain": [
              "<Figure size 640x480 with 1 Axes>"
            ],
            "image/png": "[encoded data removed]"
          },
          "metadata": {}
        }
      ]
    },
    {
      "cell_type": "code",
      "source": [
        "image_index = 3 # You can change this index to see different images\n",
        "image = X_test[image_index]\n",
        "image = image.reshape((1, 1,28, 28)).astype('float32')  # Reshape for model input\n",
        "image /= 255\n",
        "predictions = loded_model.predict(image)\n",
        "\n",
        "# Print the predicted probabilities for each class\n",
        "print(\"Predicted probabilities:\", predictions)\n",
        "\n",
        "# Get the predicted class label\n",
        "predicted_class = np.argmax(predictions)\n",
        "print(\"Predicted class:\", predicted_class-1)"
      ],
      "metadata": {
        "colab": {
          "base_uri": "https://localhost:8080/"
        },
        "id": "UctAxCY_cX4h",
        "outputId": "4a3e77bf-f200-475e-8a19-16840cfb39a8"
      },
      "execution_count": null,
      "outputs": [
        {
          "output_type": "stream",
          "name": "stdout",
          "text": [
            "1/1 [==============================] - 0s 91ms/step\n",
            "Predicted probabilities: [[0.10242506 0.10250051 0.09573648 0.09776381 0.10407599 0.09311145\n",
            "  0.09676944 0.09458271 0.10919998 0.10383461]]\n",
            "Predicted class: 7\n"
          ]
        }
      ]
    },
    {
      "cell_type": "code",
      "source": [
        "for image_index in range(10):\n",
        "  # Choose one instance\n",
        "  image = X_test[image_index]\n",
        "  image_display = image.reshape((28, 28))\n",
        "  image = image.reshape((1, 1, 28, 28 )).astype('float32')  # Reshape for model input\n",
        "\n",
        "  plt.imshow(image_display, cmap='gray')\n",
        "  plt.axis('off')\n",
        "  plt.show()\n",
        "  loded_model.reset_states()\n",
        "  predictions = loded_model.predict(image)\n",
        "\n",
        "  # Print the predicted probabilities for each class\n",
        "  print(\"Predicted probabilities:\", predictions)\n",
        "\n",
        "  # Get the predicted class label\n",
        "  predicted_class = np.argmax(predictions)\n",
        "  print(\"Predicted class:\", predicted_class -1)"
      ],
      "metadata": {
        "colab": {
          "base_uri": "https://localhost:8080/",
          "height": 1000
        },
        "id": "_yhIi-1-d24F",
        "outputId": "8004a57d-769b-4713-a629-8594fd20942b"
      },
      "execution_count": null,
      "outputs": [
        {
          "output_type": "display_data",
          "data": {
            "text/plain": [
              "<Figure size 640x480 with 1 Axes>"
            ],
            "image/png": "[encoded data removed]"
          },
          "metadata": {}
        },
        {
          "output_type": "stream",
          "name": "stdout",
          "text": [
            "1/1 [==============================] - 0s 31ms/step\n",
            "Predicted probabilities: [[9.4190843e-15 2.7277135e-06 1.0436617e-11 5.7368212e-08 7.9284266e-15\n",
            "  1.4963506e-12 1.8633817e-09 9.9999726e-01 2.6473637e-13 1.7706581e-11]]\n",
            "Predicted class: 7\n"
          ]
        },
        {
          "output_type": "display_data",
          "data": {
            "text/plain": [
              "<Figure size 640x480 with 1 Axes>"
            ],
            "image/png": "[encoded data removed]"
          },
          "metadata": {}
        },
        {
          "output_type": "stream",
          "name": "stdout",
          "text": [
            "1/1 [==============================] - 0s 32ms/step\n",
            "Predicted probabilities: [[2.9583875e-15 4.3788692e-13 1.0000000e+00 3.0117299e-18 1.6880622e-10\n",
            "  8.7994255e-15 6.1207395e-09 5.2541055e-19 2.1608149e-14 4.7153205e-20]]\n",
            "Predicted class: 2\n"
          ]
        },
        {
          "output_type": "display_data",
          "data": {
            "text/plain": [
              "<Figure size 640x480 with 1 Axes>"
            ],
            "image/png": "[encoded data removed]"
          },
          "metadata": {}
        },
        {
          "output_type": "stream",
          "name": "stdout",
          "text": [
            "1/1 [==============================] - 0s 33ms/step\n",
            "Predicted probabilities: [[2.4674516e-09 9.9999797e-01 7.1687822e-08 5.6999777e-13 1.3252543e-06\n",
            "  1.2727326e-09 1.4918086e-07 9.6270753e-08 4.0182954e-07 1.3593672e-09]]\n",
            "Predicted class: 1\n"
          ]
        },
        {
          "output_type": "display_data",
          "data": {
            "text/plain": [
              "<Figure size 640x480 with 1 Axes>"
            ],
            "image/png": "[encoded data removed]"
          },
          "metadata": {}
        },
        {
          "output_type": "stream",
          "name": "stdout",
          "text": [
            "1/1 [==============================] - 0s 29ms/step\n",
            "Predicted probabilities: [[9.9999750e-01 8.0536272e-10 6.2333787e-09 2.3277689e-09 2.1581883e-08\n",
            "  2.8869957e-11 1.2197476e-06 1.6362428e-07 3.8794499e-11 1.1033286e-06]]\n",
            "Predicted class: 0\n"
          ]
        },
        {
          "output_type": "display_data",
          "data": {
            "text/plain": [
              "<Figure size 640x480 with 1 Axes>"
            ],
            "image/png": "[encoded data removed]"
          },
          "metadata": {}
        },
        {
          "output_type": "stream",
          "name": "stdout",
          "text": [
            "1/1 [==============================] - 0s 28ms/step\n",
            "Predicted probabilities: [[3.3479617e-12 4.3371461e-13 6.1422332e-15 2.9212908e-20 9.9999905e-01\n",
            "  3.5576901e-21 8.7531114e-16 6.0788709e-17 3.2162660e-12 9.1716936e-07]]\n",
            "Predicted class: 4\n"
          ]
        },
        {
          "output_type": "display_data",
          "data": {
            "text/plain": [
              "<Figure size 640x480 with 1 Axes>"
            ],
            "image/png": "[encoded data removed]"
          },
          "metadata": {}
        },
        {
          "output_type": "stream",
          "name": "stdout",
          "text": [
            "1/1 [==============================] - 0s 25ms/step\n",
            "Predicted probabilities: [[5.9632750e-11 1.0000000e+00 3.2367037e-10 6.4672824e-16 1.2077326e-09\n",
            "  2.5097155e-12 3.7535415e-09 1.9363791e-08 7.3718764e-09 2.3197456e-11]]\n",
            "Predicted class: 1\n"
          ]
        },
        {
          "output_type": "display_data",
          "data": {
            "text/plain": [
              "<Figure size 640x480 with 1 Axes>"
            ],
            "image/png": "[encoded data removed]"
          },
          "metadata": {}
        },
        {
          "output_type": "stream",
          "name": "stdout",
          "text": [
            "1/1 [==============================] - 0s 29ms/step\n",
            "Predicted probabilities: [[4.3715884e-10 2.6443525e-09 1.1441805e-08 3.4254561e-12 9.9706274e-01\n",
            "  5.0511945e-11 3.3302961e-12 8.4338821e-11 5.6962358e-06 2.9315825e-03]]\n",
            "Predicted class: 4\n"
          ]
        },
        {
          "output_type": "display_data",
          "data": {
            "text/plain": [
              "<Figure size 640x480 with 1 Axes>"
            ],
            "image/png": "[encoded data removed]"
          },
          "metadata": {}
        },
        {
          "output_type": "stream",
          "name": "stdout",
          "text": [
            "1/1 [==============================] - 0s 24ms/step\n",
            "Predicted probabilities: [[4.1172579e-11 2.1582180e-11 2.9893147e-12 7.2807369e-09 4.4116547e-07\n",
            "  2.2133183e-10 5.3425051e-12 1.3232797e-10 4.9584634e-09 9.9999952e-01]]\n",
            "Predicted class: 9\n"
          ]
        },
        {
          "output_type": "display_data",
          "data": {
            "text/plain": [
              "<Figure size 640x480 with 1 Axes>"
            ],
            "image/png": "[encoded data removed]"
          },
          "metadata": {}
        },
        {
          "output_type": "stream",
          "name": "stdout",
          "text": [
            "1/1 [==============================] - 0s 31ms/step\n",
            "Predicted probabilities: [[2.3733012e-12 9.5527739e-08 3.4521946e-10 9.4250330e-16 5.3372626e-11\n",
            "  9.9976701e-01 2.3281061e-04 4.2131090e-09 6.5368049e-08 1.8022224e-09]]\n",
            "Predicted class: 5\n"
          ]
        },
        {
          "output_type": "display_data",
          "data": {
            "text/plain": [
              "<Figure size 640x480 with 1 Axes>"
            ],
            "image/png": "[encoded data removed]"
          },
          "metadata": {}
        },
        {
          "output_type": "stream",
          "name": "stdout",
          "text": [
            "1/1 [==============================] - 0s 28ms/step\n",
            "Predicted probabilities: [[2.1016422e-12 3.2413685e-13 3.0679445e-11 2.7745805e-12 2.6567517e-07\n",
            "  3.1224767e-10 1.2605302e-12 2.8547642e-09 2.0945132e-10 9.9999976e-01]]\n",
            "Predicted class: 9\n"
          ]
        }
      ]
    },
    {
      "cell_type": "code",
      "source": [
        "from keras.preprocessing.image import load_img, img_to_array\n",
        "image_path = \"nine.png\"\n",
        "img = load_img(image_path, target_size=(  28, 28), color_mode=\"grayscale\")\n",
        "\n",
        "x = img_to_array(img)\n",
        "x = np.expand_dims(x, axis=0)\n",
        "image = image.reshape((1, 1, 28, 28 )).astype('float32')  # Reshape for model input\n",
        "\n",
        "plt.imshow(img, cmap='gray')\n",
        "plt.axis('off')\n",
        "plt.show()\n"
      ],
      "metadata": {
        "colab": {
          "base_uri": "https://localhost:8080/",
          "height": 406
        },
        "id": "vs0RRqYLg7jn",
        "outputId": "004eadd9-f058-442e-a84b-8e36d6fce2a0"
      },
      "execution_count": null,
      "outputs": [
        {
          "output_type": "display_data",
          "data": {
            "text/plain": [
              "<Figure size 640x480 with 1 Axes>"
            ],
            "image/png": "[encoded data removed]"
          },
          "metadata": {}
        }
      ]
    },
    {
      "cell_type": "code",
      "source": [
        "predictions = loded_model.predict(x)\n",
        "\n",
        "# Print the predicted probabilities for each class\n",
        "print(\"Predicted probabilities:\", predictions)\n",
        "\n",
        "# Get the predicted class label\n",
        "predicted_class = np.argmax(predictions)\n",
        "print(\"Predicted class:\", predicted_class)"
      ],
      "metadata": {
        "colab": {
          "base_uri": "https://localhost:8080/"
        },
        "id": "0C8d30EFiB_i",
        "outputId": "bfa958ae-a625-43fd-b9c6-4bcdfda88012"
      },
      "execution_count": null,
      "outputs": [
        {
          "output_type": "stream",
          "name": "stdout",
          "text": [
            "1/1 [==============================] - 0s 20ms/step\n",
            "Predicted probabilities: [[2.2726463e-01 1.9166566e-01 4.5359087e-01 5.9778687e-02 1.8862624e-05\n",
            "  1.4485923e-02 5.5799569e-04 2.5726040e-03 1.5152815e-03 4.8549548e-02]]\n",
            "Predicted class: 2\n"
          ]
        }
      ]
    }
  ]
}